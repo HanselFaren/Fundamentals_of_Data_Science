{
  "nbformat": 4,
  "nbformat_minor": 0,
  "metadata": {
    "colab": {
      "provenance": [],
      "collapsed_sections": []
    },
    "kernelspec": {
      "name": "python3",
      "display_name": "Python 3"
    },
    "language_info": {
      "name": "python"
    }
  },
  "cells": [
    {
      "cell_type": "markdown",
      "metadata": {
        "id": "zVcAhDCjG39y"
      },
      "source": [
        "We can scrape the IMDb movie ratings and their details with the help of the **BeautifulSoup** library of Python. \n",
        "\n",
        "Read the documentation here: https://beautiful-soup-4.readthedocs.io/en/latest/\n",
        "\n",
        "Below is the list of modules required to scrape from IMDB.\n",
        "\n",
        "* *requests:* Requests library is an integral part of Python for making HTTP requests to a specified URL. Whether it be REST APIs or Web Scrapping, requests is must to be learned for proceeding further with these technologies. When one makes a request to a URI, it returns a response.\n",
        "\n",
        "* *html5lib:* A pure-python library for parsing HTML. It is designed to conform to the WHATWG HTML specification, as is implemented by all major web browsers.\n",
        "\n",
        "* *bs4:* BeautifulSoup object is provided by Beautiful Soup which is a web scraping framework for Python. Web scraping is the process of extracting data from the website using automated tools to make the process faster."
      ]
    },
    {
      "cell_type": "markdown",
      "metadata": {
        "id": "OuIJHH5jHYfA"
      },
      "source": [
        "**STEP 1. Import the library**"
      ]
    },
    {
      "cell_type": "code",
      "metadata": {
        "id": "hg0UtfIZHUF1"
      },
      "source": [
        "from bs4 import BeautifulSoup\n",
        "import requests\n",
        "import re\n",
        "import pandas as pd"
      ],
      "execution_count": null,
      "outputs": []
    },
    {
      "cell_type": "markdown",
      "metadata": {
        "id": "xkvSPMQdHm1O"
      },
      "source": [
        "**STEP 2. Access the HTML content from the webpage by assigning the URL and creating a soup object.**"
      ]
    },
    {
      "cell_type": "code",
      "metadata": {
        "id": "uIwmA01EHrkb"
      },
      "source": [
        "# Downloading imdb top 250 movie's data\n",
        "# The IMDB website check the GET request for an Accept-Language parameter. If the request doesn't have one, it shows the Chinese version.\n",
        "headers = {'Accept-Language': 'en-US,en;q=0.8'}\n",
        "url = 'https://www.imdb.com/chart/top-english-movies'\n",
        "response = requests.get(url,headers=headers)\n",
        "soup = BeautifulSoup(response.text, \"html\")\n"
      ],
      "execution_count": null,
      "outputs": []
    },
    {
      "cell_type": "markdown",
      "metadata": {
        "id": "-fLtGJrRH77i"
      },
      "source": [
        "**STEP 3. Extract the movie ratings and their details. Here, we are extracting data from BeautifulSoup object using Html tags like href, title, etc.** In this step you need basic html skill. Try to understand the structure before you loop through all the data. "
      ]
    },
    {
      "cell_type": "markdown",
      "source": [
        "* select the tag \\<```td```\\> with the class ```titleColumn```. Please notice the text scraped is still in html format. "
      ],
      "metadata": {
        "id": "7POTPhz_8P9P"
      }
    },
    {
      "cell_type": "code",
      "source": [
        "movies = soup.select('td.titleColumn')\n",
        "print(movies[0])"
      ],
      "metadata": {
        "colab": {
          "base_uri": "https://localhost:8080/"
        },
        "id": "kxIVLp4-8NmC",
        "outputId": "f0ec8c54-3caf-4b10-ace6-d388628b6dc2"
      },
      "execution_count": null,
      "outputs": [
        {
          "output_type": "stream",
          "name": "stdout",
          "text": [
            "<td class=\"titleColumn\">\n",
            "      1.\n",
            "      <a href=\"/title/tt0111161/\" title=\"Frank Darabont (dir.), Tim Robbins, Morgan Freeman\">The Shawshank Redemption</a>\n",
            "<span class=\"secondaryInfo\">(1994)</span>\n",
            "</td>\n"
          ]
        }
      ]
    },
    {
      "cell_type": "markdown",
      "source": [
        "* get the text in-between paired html tags."
      ],
      "metadata": {
        "id": "adPKbEZXAqd4"
      }
    },
    {
      "cell_type": "code",
      "source": [
        "title = [t.get_text() for t in soup.select('td.titleColumn a')]\n",
        "print(title[0])\n"
      ],
      "metadata": {
        "colab": {
          "base_uri": "https://localhost:8080/"
        },
        "id": "G9-9AS2vBVQ9",
        "outputId": "bbba50b2-d500-4914-fab9-2cc1cd16fad1"
      },
      "execution_count": null,
      "outputs": [
        {
          "output_type": "stream",
          "name": "stdout",
          "text": [
            "The Shawshank Redemption\n"
          ]
        }
      ]
    },
    {
      "cell_type": "markdown",
      "source": [
        "* To get the link, notice that the text is inside the ```<a>``` tag within the ```<td>``` tag. We can separate it with a space. "
      ],
      "metadata": {
        "id": "ITEODF6W9SNl"
      }
    },
    {
      "cell_type": "code",
      "source": [
        "links = soup.select('td.titleColumn a')\n",
        "print(links[0])"
      ],
      "metadata": {
        "colab": {
          "base_uri": "https://localhost:8080/"
        },
        "id": "5QyPOkTq9OuY",
        "outputId": "184a8b9f-c398-4e56-e6a7-d46b470fe76b"
      },
      "execution_count": null,
      "outputs": [
        {
          "output_type": "stream",
          "name": "stdout",
          "text": [
            "<a href=\"/title/tt0111161/\" title=\"Frank Darabont (dir.), Tim Robbins, Morgan Freeman\">The Shawshank Redemption</a>\n"
          ]
        }
      ]
    },
    {
      "cell_type": "markdown",
      "source": [
        "\n",
        "\n",
        "*   Get the attribute inside the tag. \n",
        "\n"
      ],
      "metadata": {
        "id": "3U5DErBk-WzQ"
      }
    },
    {
      "cell_type": "code",
      "source": [
        "#links = [a.attrs.get('href') for a in soup.select('td.titleColumn a')]\n",
        "\n",
        "links=[]\n",
        "for a in soup.select('td.titleColumn a'):\n",
        "  links.append(a.attrs.get('href'))\n",
        "\n",
        "print(links[0])"
      ],
      "metadata": {
        "colab": {
          "base_uri": "https://localhost:8080/"
        },
        "id": "zAIe1zSE-bGb",
        "outputId": "4fe7534e-29ed-4111-e89a-d885dac58306"
      },
      "execution_count": null,
      "outputs": [
        {
          "output_type": "stream",
          "name": "stdout",
          "text": [
            "/title/tt0111161/\n"
          ]
        }
      ]
    },
    {
      "cell_type": "markdown",
      "source": [
        "\n",
        "\n",
        "*   Cleaning the result with regex\n",
        "\n"
      ],
      "metadata": {
        "id": "E_Q6oA5RCrT-"
      }
    },
    {
      "cell_type": "code",
      "metadata": {
        "id": "M8V5vLGgIBeH",
        "colab": {
          "base_uri": "https://localhost:8080/"
        },
        "outputId": "4bc78fb1-4dc5-4e64-d186-08da10a31397"
      },
      "source": [
        "ratings = soup.select('td.ratingColumn strong')\n",
        "print(ratings[0].get_text())\n",
        "vote = [a.attrs.get('title') for a in soup.select('td.ratingColumn strong')]\n",
        "print(vote[0])\n",
        "\n",
        "\n",
        "#apply regex searchon first record\n",
        "\n",
        "match_s=re.search(\"on\",vote[0])\n",
        "match_e=re.search(\"user\",vote[0])\n",
        "vote = vote[0][match_s.end() :match_e.start()] #slicing\n",
        "print(vote.strip()) #clean white space\n",
        "  \n",
        "\n"
      ],
      "execution_count": null,
      "outputs": [
        {
          "output_type": "stream",
          "name": "stdout",
          "text": [
            "9.3\n",
            "9.3 based on 2,643,803 user ratings\n",
            "2,643,803\n"
          ]
        }
      ]
    },
    {
      "cell_type": "markdown",
      "metadata": {
        "id": "u82bREgtIJh8"
      },
      "source": [
        "**STEP 4. Looping the process and storing the data.**\n",
        "You need some regex search here. "
      ]
    },
    {
      "cell_type": "code",
      "metadata": {
        "id": "iStoxFKhIOHZ"
      },
      "source": [
        "list = []\n",
        " \n",
        "# Iterating over movies to extract\n",
        "# each movie's details\n",
        "for i in range(len(soup.select('td.titleColumn'))):\n",
        "\n",
        "    rank=soup.select('td.titleColumn')[i].get_text()\n",
        "    # clean the rank data, we just want the first digit before \".\", and remove all white space\n",
        "    rank=rank[0:rank.find('.')].strip()\n",
        "\n",
        "    movie_title=soup.select('td.titleColumn a')[i].string\n",
        "    year=soup.select('td.titleColumn span')[i].string\n",
        "    #clean the year data, remove \"(\" and \")\"\n",
        "    year=year.replace('(',\"\").replace(')',\"\")\n",
        "\n",
        "    crew=soup.select('td.titleColumn a')[i].attrs.get('title')\n",
        "\n",
        "    rating=soup.select('td.ratingColumn strong')[i].get_text()\n",
        "    vote=soup.select('td.ratingColumn strong')[i].attrs.get('title')\n",
        "    #cleaning the votes data\n",
        "    match_s=re.search(\"on\",vote)\n",
        "    match_e=re.search(\"user\",vote)\n",
        "    vote = vote[ match_s.end() :match_e.start()].strip()\n",
        "\n",
        "    link=soup.select('td.titleColumn a')[i].attrs.get('href')\n",
        "    #add the domain name\n",
        "    link=\"https://www.imdb.com\" + link\n",
        "\n",
        "    data = {\"rank\":rank,\n",
        "            \"movie_title\": movie_title,\n",
        "            \"year\": year,\n",
        "            \"crew\": crew,\n",
        "            \"rating\": rating,\n",
        "            \"link\": link,\n",
        "            \"votes\": vote}\n",
        "    list.append(data)"
      ],
      "execution_count": null,
      "outputs": []
    },
    {
      "cell_type": "markdown",
      "metadata": {
        "id": "kY17jfVwIiRo"
      },
      "source": [
        "**STEP 5. Save as DataFrame and store it as CSV for further analysis.** You can also store it as SQL if you prefer. "
      ]
    },
    {
      "cell_type": "code",
      "metadata": {
        "colab": {
          "base_uri": "https://localhost:8080/"
        },
        "id": "UjZEofrKInRC",
        "outputId": "e1f2b7f1-3692-4849-d5af-66ce14671943"
      },
      "source": [
        "\n",
        "df = pd.DataFrame(list, columns = ['rank', 'movie_title', 'year', 'crew', 'rating', 'link', 'votes'])\n",
        "print(list[0])\n",
        "print (df.head())\n",
        "\n",
        "df.to_csv('250movie.csv', index=False)"
      ],
      "execution_count": null,
      "outputs": [
        {
          "output_type": "stream",
          "name": "stdout",
          "text": [
            "{'rank': '1', 'movie_title': 'The Shawshank Redemption', 'year': '1994', 'crew': 'Frank Darabont (dir.), Tim Robbins, Morgan Freeman', 'rating': '9.3', 'link': 'https://www.imdb.com/title/tt0111161/', 'votes': '2,644,057'}\n",
            "  rank               movie_title  year  \\\n",
            "0    1  The Shawshank Redemption  1994   \n",
            "1    2             The Godfather  1972   \n",
            "2    3           The Dark Knight  2008   \n",
            "3    4     The Godfather Part II  1974   \n",
            "4    5              12 Angry Men  1957   \n",
            "\n",
            "                                                crew rating  \\\n",
            "0  Frank Darabont (dir.), Tim Robbins, Morgan Fre...    9.3   \n",
            "1  Francis Ford Coppola (dir.), Marlon Brando, Al...    9.2   \n",
            "2  Christopher Nolan (dir.), Christian Bale, Heat...    9.0   \n",
            "3  Francis Ford Coppola (dir.), Al Pacino, Robert...    9.0   \n",
            "4      Sidney Lumet (dir.), Henry Fonda, Lee J. Cobb    9.0   \n",
            "\n",
            "                                    link      votes  \n",
            "0  https://www.imdb.com/title/tt0111161/  2,644,057  \n",
            "1  https://www.imdb.com/title/tt0068646/  1,832,902  \n",
            "2  https://www.imdb.com/title/tt0468569/  2,615,881  \n",
            "3  https://www.imdb.com/title/tt0071562/  1,256,328  \n",
            "4  https://www.imdb.com/title/tt0050083/    780,657  \n"
          ]
        }
      ]
    },
    {
      "cell_type": "code",
      "source": [
        "!pip install bs4"
      ],
      "metadata": {
        "colab": {
          "base_uri": "https://localhost:8080/"
        },
        "id": "pYYbZ7FvNhAA",
        "outputId": "230e31ad-6021-4f87-ccf4-11129ba32a29"
      },
      "execution_count": null,
      "outputs": [
        {
          "output_type": "stream",
          "name": "stdout",
          "text": [
            "Looking in indexes: https://pypi.org/simple, https://us-python.pkg.dev/colab-wheels/public/simple/\n",
            "Requirement already satisfied: bs4 in /usr/local/lib/python3.7/dist-packages (0.0.1)\n",
            "Requirement already satisfied: beautifulsoup4 in /usr/local/lib/python3.7/dist-packages (from bs4) (4.6.3)\n"
          ]
        }
      ]
    }
  ]
}